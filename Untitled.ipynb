{
 "cells": [
  {
   "cell_type": "code",
   "execution_count": 3,
   "id": "9e285157-2e44-4692-9556-5f00ddef9a01",
   "metadata": {
    "tags": []
   },
   "outputs": [],
   "source": [
    "import requests"
   ]
  },
  {
   "cell_type": "code",
   "execution_count": 5,
   "id": "10d8cc5b-df2a-4e36-8dd8-74a9cab622fc",
   "metadata": {
    "tags": []
   },
   "outputs": [
    {
     "name": "stdout",
     "output_type": "stream",
     "text": [
      "Number of png images found on the page: 29\n"
     ]
    }
   ],
   "source": [
    "r = requests.get(\"https://gsom.spbu.ru/en/\")\n",
    "\n",
    "# converting content to string\n",
    "content = r.content.decode('utf-8')\n",
    "\n",
    "# counting all .png occurences on the webpage and printing the result out\n",
    "png_count = content.count('.png')\n",
    "print(f'Number of png images found on the page: {png_count}')\n"
   ]
  },
  {
   "cell_type": "code",
   "execution_count": 6,
   "id": "f085d8fb-f9ea-477f-9e82-ffbe84cbe0a6",
   "metadata": {
    "tags": []
   },
   "outputs": [],
   "source": [
    "# looking for the first occurence of .png\n",
    "first_png = content.find('.png')\n",
    "\n",
    "# using method rfind() to search for the opening quote \" backward (before the png part of the url)\n",
    "# it will be searching for it in the range from 0 to find_png\n",
    "link_start = content.rfind('\"',0,first_png)\n",
    "link_start += 1 # just skipping the quote in the url\n",
    "\n",
    "# now, looking for the position of the closing \" at the end of the url\n",
    "link_end = content.find('\"',find_png) "
   ]
  },
  {
   "cell_type": "code",
   "execution_count": 7,
   "id": "54b24702-d5d4-4417-9e37-6f409750921f",
   "metadata": {
    "tags": []
   },
   "outputs": [],
   "source": [
    "# now, we can combine it all in one url\n",
    "url = content[link_start:link_end]\n",
    "url = \"https://gsom.spbu.ru\" + url"
   ]
  },
  {
   "cell_type": "code",
   "execution_count": 8,
   "id": "73c17759-cf85-4fda-8a30-dcefcb0425d7",
   "metadata": {
    "tags": []
   },
   "outputs": [
    {
     "name": "stdout",
     "output_type": "stream",
     "text": [
      "First image URL: https://gsom.spbu.ru/templates/gsom/img/favicon.png\n"
     ]
    }
   ],
   "source": [
    "print(f\"First image URL: {url}\")"
   ]
  },
  {
   "cell_type": "code",
   "execution_count": 12,
   "id": "a9bd68a5-9256-4d81-85fd-9df4d44c1ba7",
   "metadata": {
    "tags": []
   },
   "outputs": [],
   "source": [
    "# time to steal it\n",
    "image= requests.get(url)\n",
    "with open('/home/jovyan/Homework12/gsom.png','wb') as f:\n",
    "    f.write(image.content)\n",
    "\n",
    "print(\"You've successfully stolen some of GSOM's intellectual property:)\")"
   ]
  },
  {
   "cell_type": "code",
   "execution_count": null,
   "id": "becfd991-a5de-4b04-8cfe-fb07d2bd134b",
   "metadata": {},
   "outputs": [],
   "source": []
  }
 ],
 "metadata": {
  "kernelspec": {
   "display_name": "Python 3 (ipykernel)",
   "language": "python",
   "name": "python3"
  },
  "language_info": {
   "codemirror_mode": {
    "name": "ipython",
    "version": 3
   },
   "file_extension": ".py",
   "mimetype": "text/x-python",
   "name": "python",
   "nbconvert_exporter": "python",
   "pygments_lexer": "ipython3",
   "version": "3.10.8"
  }
 },
 "nbformat": 4,
 "nbformat_minor": 5
}
